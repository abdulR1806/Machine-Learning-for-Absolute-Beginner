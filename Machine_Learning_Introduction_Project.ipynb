{
  "nbformat": 4,
  "nbformat_minor": 0,
  "metadata": {
    "colab": {
      "name": "Machine Learning Introduction - Project",
      "provenance": [],
      "authorship_tag": "ABX9TyPqNn7i5rqXwgP7Aron0zcm",
      "include_colab_link": true
    },
    "kernelspec": {
      "name": "python3",
      "display_name": "Python 3"
    },
    "language_info": {
      "name": "python"
    }
  },
  "cells": [
    {
      "cell_type": "markdown",
      "metadata": {
        "id": "view-in-github",
        "colab_type": "text"
      },
      "source": [
        "<a href=\"https://colab.research.google.com/github/abdulR1806/Machine-Learning-for-Absolute-Beginner/blob/main/Machine_Learning_Introduction_Project.ipynb\" target=\"_parent\"><img src=\"https://colab.research.google.com/assets/colab-badge.svg\" alt=\"Open In Colab\"/></a>"
      ]
    },
    {
      "cell_type": "markdown",
      "metadata": {
        "id": "X7oXa2lRxGSQ"
      },
      "source": [
        "![picture](https://images-na.ssl-images-amazon.com/images/I/41KnH6vqp0L._SX331_BO1,204,203,200_.jpg)"
      ]
    },
    {
      "cell_type": "markdown",
      "metadata": {
        "id": "j4byY4uq1AYC"
      },
      "source": [
        "# Machine Learning for Absolute Beginner - Project"
      ]
    },
    {
      "cell_type": "markdown",
      "metadata": {
        "id": "AU7xVngdyp51"
      },
      "source": [
        "\n",
        "> by Muhammad Abdul Rokhim (@AbdulR18)\n",
        "\n",
        "Cheatsheet :\n",
        "\n",
        "\n",
        "*   Pandas\n",
        "*   Skicit\n",
        "\n",
        "\n",
        "\n",
        "---\n",
        "\n",
        "\n",
        "\n",
        "\n",
        "\n",
        "\n",
        "\n",
        "\n",
        "\n",
        "\n",
        "\n",
        "\n",
        "\n"
      ]
    },
    {
      "cell_type": "markdown",
      "metadata": {
        "id": "5p6icl2mziqg"
      },
      "source": [
        "## About Projects\n",
        "For this exercise, we will design a house price valuation system using gradient boosting following these six steps:\n",
        "1. Import libraries\n",
        "2. Import dataset\n",
        "2. Scrub dataset\n",
        "4. Split data into training and test data\n",
        "5. Select an algorithm and configure its hyperparameters\n",
        "6. valuate the results"
      ]
    },
    {
      "cell_type": "markdown",
      "metadata": {
        "id": "MVzjWmoDz_kV"
      },
      "source": [
        "### Dataset\n",
        "I’ve selected a free and publicly available dataset from kaggle.com which contains data on house, unit, and townhouse prices in Melbourne, Australia. This dataset comprises data scraped from publicly available listings posted weekly on www.domain.com.au. The full dataset contains 34,857 property listings and 21 variables including address, suburb, land size, number of rooms, price, longitude, latitude, postcode, etc.\n",
        "The Melbourne_housing_FULL dataset can be downloaded from this link: https://www.kaggle.com/anthonypino/melbourne-housing-market/.\n",
        "After registering a free account and logging into kaggle.com, download the dataset as a zip file. Next, unzip the downloaded file and import it into Jupyter Notebook. To import the dataset, you can use pd.read_cs v to load the data into a Pandas dataframe (tabular dataset)."
      ]
    },
    {
      "cell_type": "markdown",
      "metadata": {
        "id": "lJ6QDtX_1N_B"
      },
      "source": [
        "## Preparing Data"
      ]
    },
    {
      "cell_type": "code",
      "metadata": {
        "id": "XC6NpOwZ0XAo"
      },
      "source": [
        "# Import Libraries"
      ],
      "execution_count": null,
      "outputs": []
    },
    {
      "cell_type": "code",
      "metadata": {
        "id": "ZV9z3L9Z0bp8"
      },
      "source": [
        "# Import Dataset"
      ],
      "execution_count": null,
      "outputs": []
    },
    {
      "cell_type": "code",
      "metadata": {
        "id": "ILe9ibG50fd8"
      },
      "source": [
        "# Scrub Dataset"
      ],
      "execution_count": null,
      "outputs": []
    },
    {
      "cell_type": "code",
      "metadata": {
        "id": "Me6CGMp70l27"
      },
      "source": [
        "# Split Dataset"
      ],
      "execution_count": null,
      "outputs": []
    },
    {
      "cell_type": "markdown",
      "metadata": {
        "id": "Ylm8250P1EyX"
      },
      "source": [
        "## Playing with Algorithm"
      ]
    },
    {
      "cell_type": "code",
      "metadata": {
        "id": "b-HDMW1a0pU5"
      },
      "source": [
        "# Select Algorithms and Configure Hyperparameters"
      ],
      "execution_count": null,
      "outputs": []
    },
    {
      "cell_type": "code",
      "metadata": {
        "id": "hkNFHE6Q0udY"
      },
      "source": [
        "# Evaluate the Results"
      ],
      "execution_count": null,
      "outputs": []
    },
    {
      "cell_type": "markdown",
      "metadata": {
        "id": "lcEb4DJY1sTv"
      },
      "source": [
        "## Conclusion"
      ]
    }
  ]
}